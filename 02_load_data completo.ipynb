{
 "cells": [
  {
   "cell_type": "code",
   "execution_count": 1,
   "metadata": {},
   "outputs": [
    {
     "data": {
      "text/plain": [
       "True"
      ]
     },
     "execution_count": 1,
     "metadata": {},
     "output_type": "execute_result"
    }
   ],
   "source": [
    "# Importaciones\n",
    "from src import soporte as sp\n",
    "import pandas as pd # type: ignore\n",
    "from tqdm import tqdm # type: ignore\n",
    "# Para trabajar con archivos dotenv y los tokens\n",
    "# -----------------------------------------------------------------------\n",
    "import os\n",
    "import dotenv # type: ignore\n",
    "dotenv.load_dotenv()\n"
   ]
  },
  {
   "cell_type": "code",
   "execution_count": 2,
   "metadata": {},
   "outputs": [],
   "source": [
    "df = pd.read_csv(\"datos/datos_con_geoposicion.csv\", index_col = 0)"
   ]
  },
  {
   "cell_type": "code",
   "execution_count": 3,
   "metadata": {},
   "outputs": [
    {
     "name": "stderr",
     "output_type": "stream",
     "text": [
      "100%|██████████| 5/5 [00:02<00:00,  1.71it/s]\n"
     ]
    }
   ],
   "source": [
    "key = os.getenv(\"token\")\n",
    "df_all = sp.get_all_data(df,key)"
   ]
  },
  {
   "cell_type": "code",
   "execution_count": 4,
   "metadata": {},
   "outputs": [
    {
     "data": {
      "text/html": [
       "<div>\n",
       "<style scoped>\n",
       "    .dataframe tbody tr th:only-of-type {\n",
       "        vertical-align: middle;\n",
       "    }\n",
       "\n",
       "    .dataframe tbody tr th {\n",
       "        vertical-align: top;\n",
       "    }\n",
       "\n",
       "    .dataframe thead th {\n",
       "        text-align: right;\n",
       "    }\n",
       "</style>\n",
       "<table border=\"1\" class=\"dataframe\">\n",
       "  <thead>\n",
       "    <tr style=\"text-align: right;\">\n",
       "      <th></th>\n",
       "      <th>fsq_id</th>\n",
       "      <th>distance</th>\n",
       "      <th>name</th>\n",
       "      <th>municipio</th>\n",
       "      <th>id_categoria</th>\n",
       "      <th>categoria</th>\n",
       "      <th>direccion</th>\n",
       "      <th>latitud</th>\n",
       "      <th>longitud</th>\n",
       "    </tr>\n",
       "  </thead>\n",
       "  <tbody>\n",
       "    <tr>\n",
       "      <th>0</th>\n",
       "      <td>4eb5611c93ad236570219cc8</td>\n",
       "      <td>155</td>\n",
       "      <td>Hotel indignado</td>\n",
       "      <td>madrid</td>\n",
       "      <td>16033</td>\n",
       "      <td>Dog Park</td>\n",
       "      <td></td>\n",
       "      <td>40.415322</td>\n",
       "      <td>-3.703310</td>\n",
       "    </tr>\n",
       "    <tr>\n",
       "      <th>1</th>\n",
       "      <td>4e6b38b4227162c38ec50ea0</td>\n",
       "      <td>309</td>\n",
       "      <td>Parque infantil Plaza Santa Ana</td>\n",
       "      <td>madrid</td>\n",
       "      <td>16037</td>\n",
       "      <td>Playground</td>\n",
       "      <td>Madrid Comunidad de Madrid</td>\n",
       "      <td>40.414998</td>\n",
       "      <td>-3.700691</td>\n",
       "    </tr>\n",
       "    <tr>\n",
       "      <th>2</th>\n",
       "      <td>4f6f520be4b056aa9465342a</td>\n",
       "      <td>428</td>\n",
       "      <td>Parque Madrid Río</td>\n",
       "      <td>madrid</td>\n",
       "      <td>16032</td>\n",
       "      <td>Park</td>\n",
       "      <td>28011 Madrid Comunidad de Madrid</td>\n",
       "      <td>40.420474</td>\n",
       "      <td>-3.704660</td>\n",
       "    </tr>\n",
       "    <tr>\n",
       "      <th>3</th>\n",
       "      <td>4f3bc8a4e4b0258ec279c458</td>\n",
       "      <td>431</td>\n",
       "      <td>Valverde, 2</td>\n",
       "      <td>madrid</td>\n",
       "      <td>16037</td>\n",
       "      <td>Playground</td>\n",
       "      <td>Valverde</td>\n",
       "      <td>40.420428</td>\n",
       "      <td>-3.702154</td>\n",
       "    </tr>\n",
       "    <tr>\n",
       "      <th>4</th>\n",
       "      <td>4e7154af1838677342eebeb5</td>\n",
       "      <td>618</td>\n",
       "      <td>Parque Atocha</td>\n",
       "      <td>madrid</td>\n",
       "      <td>16037</td>\n",
       "      <td>Playground</td>\n",
       "      <td>Madrid Comunidad de Madrid</td>\n",
       "      <td>40.422176</td>\n",
       "      <td>-3.702259</td>\n",
       "    </tr>\n",
       "  </tbody>\n",
       "</table>\n",
       "</div>"
      ],
      "text/plain": [
       "                     fsq_id  distance                             name  \\\n",
       "0  4eb5611c93ad236570219cc8       155                  Hotel indignado   \n",
       "1  4e6b38b4227162c38ec50ea0       309  Parque infantil Plaza Santa Ana   \n",
       "2  4f6f520be4b056aa9465342a       428                Parque Madrid Río   \n",
       "3  4f3bc8a4e4b0258ec279c458       431                      Valverde, 2   \n",
       "4  4e7154af1838677342eebeb5       618                    Parque Atocha   \n",
       "\n",
       "  municipio  id_categoria   categoria                         direccion  \\\n",
       "0    madrid         16033    Dog Park                                     \n",
       "1    madrid         16037  Playground        Madrid Comunidad de Madrid   \n",
       "2    madrid         16032        Park  28011 Madrid Comunidad de Madrid   \n",
       "3    madrid         16037  Playground                          Valverde   \n",
       "4    madrid         16037  Playground        Madrid Comunidad de Madrid   \n",
       "\n",
       "     latitud  longitud  \n",
       "0  40.415322 -3.703310  \n",
       "1  40.414998 -3.700691  \n",
       "2  40.420474 -3.704660  \n",
       "3  40.420428 -3.702154  \n",
       "4  40.422176 -3.702259  "
      ]
     },
     "metadata": {},
     "output_type": "display_data"
    },
    {
     "data": {
      "text/plain": [
       "201"
      ]
     },
     "metadata": {},
     "output_type": "display_data"
    }
   ],
   "source": [
    "display(df_all.head())\n",
    "display(df_all.shape[0])"
   ]
  },
  {
   "cell_type": "code",
   "execution_count": 5,
   "metadata": {},
   "outputs": [],
   "source": [
    "df_all.to_csv(\"datos/datos_completos_con_categorias.csv\")"
   ]
  }
 ],
 "metadata": {
  "kernelspec": {
   "display_name": "Python 3",
   "language": "python",
   "name": "python3"
  },
  "language_info": {
   "codemirror_mode": {
    "name": "ipython",
    "version": 3
   },
   "file_extension": ".py",
   "mimetype": "text/x-python",
   "name": "python",
   "nbconvert_exporter": "python",
   "pygments_lexer": "ipython3",
   "version": "3.12.5"
  }
 },
 "nbformat": 4,
 "nbformat_minor": 2
}
