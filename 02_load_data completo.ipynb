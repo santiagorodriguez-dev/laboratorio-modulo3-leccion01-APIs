{
 "cells": [
  {
   "cell_type": "code",
   "execution_count": 1,
   "metadata": {},
   "outputs": [
    {
     "data": {
      "text/plain": [
       "True"
      ]
     },
     "execution_count": 1,
     "metadata": {},
     "output_type": "execute_result"
    }
   ],
   "source": [
    "# Importaciones\n",
    "from src import soporte as sp\n",
    "import pandas as pd # type: ignore\n",
    "from tqdm import tqdm # type: ignore\n",
    "# Para trabajar con archivos dotenv y los tokens\n",
    "# -----------------------------------------------------------------------\n",
    "import os\n",
    "import dotenv # type: ignore\n",
    "dotenv.load_dotenv()\n"
   ]
  },
  {
   "cell_type": "code",
   "execution_count": 2,
   "metadata": {},
   "outputs": [],
   "source": [
    "df = pd.read_csv(\"datos/datos_con_geoposicion.csv\", index_col = 0)"
   ]
  },
  {
   "cell_type": "code",
   "execution_count": 3,
   "metadata": {},
   "outputs": [
    {
     "name": "stderr",
     "output_type": "stream",
     "text": [
      "100%|██████████| 5/5 [00:03<00:00,  1.61it/s]\n"
     ]
    }
   ],
   "source": [
    "key = os.getenv(\"token\")\n",
    "df_all = sp.get_all_data(df,key)"
   ]
  },
  {
   "cell_type": "code",
   "execution_count": 4,
   "metadata": {},
   "outputs": [
    {
     "data": {
      "text/html": [
       "<div>\n",
       "<style scoped>\n",
       "    .dataframe tbody tr th:only-of-type {\n",
       "        vertical-align: middle;\n",
       "    }\n",
       "\n",
       "    .dataframe tbody tr th {\n",
       "        vertical-align: top;\n",
       "    }\n",
       "\n",
       "    .dataframe thead th {\n",
       "        text-align: right;\n",
       "    }\n",
       "</style>\n",
       "<table border=\"1\" class=\"dataframe\">\n",
       "  <thead>\n",
       "    <tr style=\"text-align: right;\">\n",
       "      <th></th>\n",
       "      <th>fsq_id</th>\n",
       "      <th>distance</th>\n",
       "      <th>name</th>\n",
       "      <th>municipio</th>\n",
       "      <th>id_categoria</th>\n",
       "      <th>categoria</th>\n",
       "      <th>direccion</th>\n",
       "      <th>latitud</th>\n",
       "      <th>longitud</th>\n",
       "    </tr>\n",
       "  </thead>\n",
       "  <tbody>\n",
       "    <tr>\n",
       "      <th>0</th>\n",
       "      <td>5a82808dfd9d733314d4a502</td>\n",
       "      <td>13</td>\n",
       "      <td>Natalia Almagro</td>\n",
       "      <td>madrid</td>\n",
       "      <td>11006</td>\n",
       "      <td>Audiovisual Service</td>\n",
       "      <td>Mayor, 6, 28013 Madrid Comunidad de Madrid</td>\n",
       "      <td>40.416561</td>\n",
       "      <td>-3.705697</td>\n",
       "    </tr>\n",
       "    <tr>\n",
       "      <th>1</th>\n",
       "      <td>21a97711630d4ba6a9948de9</td>\n",
       "      <td>252</td>\n",
       "      <td>Plataforma de Nuevos Realizadores y Tecnicos A...</td>\n",
       "      <td>madrid</td>\n",
       "      <td>11006</td>\n",
       "      <td>Audiovisual Service</td>\n",
       "      <td>Núñez de Arce, 11, 28012 Madrid Madrid</td>\n",
       "      <td>40.415404</td>\n",
       "      <td>-3.701132</td>\n",
       "    </tr>\n",
       "    <tr>\n",
       "      <th>2</th>\n",
       "      <td>b36562e4bd6b4980fe3f911d</td>\n",
       "      <td>362</td>\n",
       "      <td>Cartago Films</td>\n",
       "      <td>madrid</td>\n",
       "      <td>11006</td>\n",
       "      <td>Audiovisual Service</td>\n",
       "      <td>Calle de Gran Via, 31, 28013 Madrid Madrid</td>\n",
       "      <td>40.419964</td>\n",
       "      <td>-3.703727</td>\n",
       "    </tr>\n",
       "    <tr>\n",
       "      <th>3</th>\n",
       "      <td>f0dce5b2d1504e5828bf2372</td>\n",
       "      <td>368</td>\n",
       "      <td>Colose Producciones</td>\n",
       "      <td>madrid</td>\n",
       "      <td>11006</td>\n",
       "      <td>Audiovisual Service</td>\n",
       "      <td>Calle Conde de Romanones, 5, 28012 Madrid Comu...</td>\n",
       "      <td>40.413548</td>\n",
       "      <td>-3.704593</td>\n",
       "    </tr>\n",
       "    <tr>\n",
       "      <th>4</th>\n",
       "      <td>c9ddb1be81ba481738dbc8f0</td>\n",
       "      <td>394</td>\n",
       "      <td>Festival Films</td>\n",
       "      <td>madrid</td>\n",
       "      <td>11006</td>\n",
       "      <td>Audiovisual Service</td>\n",
       "      <td>Arlabán, 7, 28014 Madrid Madrid</td>\n",
       "      <td>40.417132</td>\n",
       "      <td>-3.698949</td>\n",
       "    </tr>\n",
       "  </tbody>\n",
       "</table>\n",
       "</div>"
      ],
      "text/plain": [
       "                     fsq_id  distance  \\\n",
       "0  5a82808dfd9d733314d4a502        13   \n",
       "1  21a97711630d4ba6a9948de9       252   \n",
       "2  b36562e4bd6b4980fe3f911d       362   \n",
       "3  f0dce5b2d1504e5828bf2372       368   \n",
       "4  c9ddb1be81ba481738dbc8f0       394   \n",
       "\n",
       "                                                name municipio  id_categoria  \\\n",
       "0                                    Natalia Almagro    madrid         11006   \n",
       "1  Plataforma de Nuevos Realizadores y Tecnicos A...    madrid         11006   \n",
       "2                                      Cartago Films    madrid         11006   \n",
       "3                                Colose Producciones    madrid         11006   \n",
       "4                                     Festival Films    madrid         11006   \n",
       "\n",
       "             categoria                                          direccion  \\\n",
       "0  Audiovisual Service         Mayor, 6, 28013 Madrid Comunidad de Madrid   \n",
       "1  Audiovisual Service             Núñez de Arce, 11, 28012 Madrid Madrid   \n",
       "2  Audiovisual Service         Calle de Gran Via, 31, 28013 Madrid Madrid   \n",
       "3  Audiovisual Service  Calle Conde de Romanones, 5, 28012 Madrid Comu...   \n",
       "4  Audiovisual Service                    Arlabán, 7, 28014 Madrid Madrid   \n",
       "\n",
       "     latitud  longitud  \n",
       "0  40.416561 -3.705697  \n",
       "1  40.415404 -3.701132  \n",
       "2  40.419964 -3.703727  \n",
       "3  40.413548 -3.704593  \n",
       "4  40.417132 -3.698949  "
      ]
     },
     "metadata": {},
     "output_type": "display_data"
    },
    {
     "data": {
      "text/plain": [
       "201"
      ]
     },
     "metadata": {},
     "output_type": "display_data"
    }
   ],
   "source": [
    "display(df_all.head())\n",
    "display(df_all.shape[0])"
   ]
  },
  {
   "cell_type": "code",
   "execution_count": 5,
   "metadata": {},
   "outputs": [],
   "source": [
    "df_all.to_csv(\"datos/datos_completos_con_categorias.csv\")"
   ]
  }
 ],
 "metadata": {
  "kernelspec": {
   "display_name": "Python 3",
   "language": "python",
   "name": "python3"
  },
  "language_info": {
   "codemirror_mode": {
    "name": "ipython",
    "version": 3
   },
   "file_extension": ".py",
   "mimetype": "text/x-python",
   "name": "python",
   "nbconvert_exporter": "python",
   "pygments_lexer": "ipython3",
   "version": "3.12.5"
  }
 },
 "nbformat": 4,
 "nbformat_minor": 2
}
