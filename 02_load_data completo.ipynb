{
 "cells": [
  {
   "cell_type": "code",
   "execution_count": 1,
   "metadata": {},
   "outputs": [
    {
     "data": {
      "text/plain": [
       "True"
      ]
     },
     "execution_count": 1,
     "metadata": {},
     "output_type": "execute_result"
    }
   ],
   "source": [
    "# Importaciones\n",
    "from src import soporte as sp\n",
    "import pandas as pd # type: ignore\n",
    "from tqdm import tqdm # type: ignore\n",
    "# Para trabajar con archivos dotenv y los tokens\n",
    "# -----------------------------------------------------------------------\n",
    "import os\n",
    "import dotenv # type: ignore\n",
    "dotenv.load_dotenv()\n"
   ]
  },
  {
   "cell_type": "code",
   "execution_count": 2,
   "metadata": {},
   "outputs": [],
   "source": [
    "df = pd.read_csv(\"datos/datos_con_geoposicion.csv\", index_col = 0)"
   ]
  },
  {
   "cell_type": "code",
   "execution_count": 3,
   "metadata": {},
   "outputs": [
    {
     "name": "stderr",
     "output_type": "stream",
     "text": [
      "100%|██████████| 5/5 [00:03<00:00,  1.52it/s]\n",
      "100%|██████████| 1/1 [00:03<00:00,  3.29s/it]\n"
     ]
    }
   ],
   "source": [
    "key = os.getenv(\"token\")\n",
    "df_all = sp.get_all_data(df,key)"
   ]
  },
  {
   "cell_type": "code",
   "execution_count": 4,
   "metadata": {},
   "outputs": [
    {
     "data": {
      "text/html": [
       "<div>\n",
       "<style scoped>\n",
       "    .dataframe tbody tr th:only-of-type {\n",
       "        vertical-align: middle;\n",
       "    }\n",
       "\n",
       "    .dataframe tbody tr th {\n",
       "        vertical-align: top;\n",
       "    }\n",
       "\n",
       "    .dataframe thead th {\n",
       "        text-align: right;\n",
       "    }\n",
       "</style>\n",
       "<table border=\"1\" class=\"dataframe\">\n",
       "  <thead>\n",
       "    <tr style=\"text-align: right;\">\n",
       "      <th></th>\n",
       "      <th>fsq_id</th>\n",
       "      <th>categories</th>\n",
       "      <th>distance</th>\n",
       "      <th>location</th>\n",
       "      <th>name</th>\n",
       "    </tr>\n",
       "  </thead>\n",
       "  <tbody>\n",
       "    <tr>\n",
       "      <th>28</th>\n",
       "      <td>510e5f69e4b0f62779f2e538</td>\n",
       "      <td>[{'id': 16032, 'name': 'Park', 'short_name': '...</td>\n",
       "      <td>1356</td>\n",
       "      <td>{'admin_region': 'Comunidad de Madrid', 'count...</td>\n",
       "      <td>Ahuehuete</td>\n",
       "    </tr>\n",
       "    <tr>\n",
       "      <th>46</th>\n",
       "      <td>6f80c9465c864d8d08d945bd</td>\n",
       "      <td>[{'id': 11036, 'name': 'Entertainment Service'...</td>\n",
       "      <td>1743</td>\n",
       "      <td>{'address': 'Juan Álvarez Mendizábal, 54', 'ad...</td>\n",
       "      <td>Teleo Cuentos - Animal Party</td>\n",
       "    </tr>\n",
       "    <tr>\n",
       "      <th>171</th>\n",
       "      <td>6d1df448730c49d81fcfef7e</td>\n",
       "      <td>[{'id': 10043, 'name': 'Theater', 'short_name'...</td>\n",
       "      <td>1027</td>\n",
       "      <td>{'address': 'Cta. San Vicente, 4', 'admin_regi...</td>\n",
       "      <td>Alta Films</td>\n",
       "    </tr>\n",
       "  </tbody>\n",
       "</table>\n",
       "</div>"
      ],
      "text/plain": [
       "                       fsq_id  \\\n",
       "28   510e5f69e4b0f62779f2e538   \n",
       "46   6f80c9465c864d8d08d945bd   \n",
       "171  6d1df448730c49d81fcfef7e   \n",
       "\n",
       "                                            categories  distance  \\\n",
       "28   [{'id': 16032, 'name': 'Park', 'short_name': '...      1356   \n",
       "46   [{'id': 11036, 'name': 'Entertainment Service'...      1743   \n",
       "171  [{'id': 10043, 'name': 'Theater', 'short_name'...      1027   \n",
       "\n",
       "                                              location  \\\n",
       "28   {'admin_region': 'Comunidad de Madrid', 'count...   \n",
       "46   {'address': 'Juan Álvarez Mendizábal, 54', 'ad...   \n",
       "171  {'address': 'Cta. San Vicente, 4', 'admin_regi...   \n",
       "\n",
       "                             name  \n",
       "28                      Ahuehuete  \n",
       "46   Teleo Cuentos - Animal Party  \n",
       "171                    Alta Films  "
      ]
     },
     "execution_count": 4,
     "metadata": {},
     "output_type": "execute_result"
    }
   ],
   "source": [
    "df_all.sample(3)"
   ]
  },
  {
   "cell_type": "code",
   "execution_count": 5,
   "metadata": {},
   "outputs": [],
   "source": [
    "df_all.to_csv(\"datos/datos_completos_con_categorias.csv\")"
   ]
  }
 ],
 "metadata": {
  "kernelspec": {
   "display_name": "Python 3",
   "language": "python",
   "name": "python3"
  },
  "language_info": {
   "codemirror_mode": {
    "name": "ipython",
    "version": 3
   },
   "file_extension": ".py",
   "mimetype": "text/x-python",
   "name": "python",
   "nbconvert_exporter": "python",
   "pygments_lexer": "ipython3",
   "version": "3.12.5"
  }
 },
 "nbformat": 4,
 "nbformat_minor": 2
}
