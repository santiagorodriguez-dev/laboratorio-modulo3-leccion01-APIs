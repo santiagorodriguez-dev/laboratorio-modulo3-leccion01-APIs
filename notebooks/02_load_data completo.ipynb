{
 "cells": [
  {
   "cell_type": "code",
   "execution_count": 1,
   "metadata": {},
   "outputs": [
    {
     "data": {
      "text/plain": [
       "True"
      ]
     },
     "execution_count": 1,
     "metadata": {},
     "output_type": "execute_result"
    }
   ],
   "source": [
    "# Importaciones\n",
    "import sys\n",
    "import pandas as pd # type: ignore\n",
    "from tqdm import tqdm # type: ignore\n",
    "sys.path.append(\"../\")\n",
    "from src import soporte as sp\n",
    "# Para trabajar con archivos dotenv y los tokens\n",
    "# -----------------------------------------------------------------------\n",
    "import os\n",
    "import dotenv # type: ignore\n",
    "dotenv.load_dotenv()\n"
   ]
  },
  {
   "cell_type": "markdown",
   "metadata": {},
   "source": [
    "leemos el fichero con los datos de geoposicion"
   ]
  },
  {
   "cell_type": "code",
   "execution_count": 2,
   "metadata": {},
   "outputs": [],
   "source": [
    "df = pd.read_csv(\"../datos/datos_con_geoposicion.csv\", index_col = 0)"
   ]
  },
  {
   "cell_type": "markdown",
   "metadata": {},
   "source": [
    "llamamos a la funciona que devuelve todos los datos tratados"
   ]
  },
  {
   "cell_type": "code",
   "execution_count": 3,
   "metadata": {},
   "outputs": [],
   "source": [
    "key = os.getenv(\"token\")\n",
    "df_all = sp.get_all_data(df,key)"
   ]
  },
  {
   "cell_type": "markdown",
   "metadata": {},
   "source": [
    "display de datos"
   ]
  },
  {
   "cell_type": "code",
   "execution_count": 4,
   "metadata": {},
   "outputs": [
    {
     "data": {
      "text/html": [
       "<div>\n",
       "<style scoped>\n",
       "    .dataframe tbody tr th:only-of-type {\n",
       "        vertical-align: middle;\n",
       "    }\n",
       "\n",
       "    .dataframe tbody tr th {\n",
       "        vertical-align: top;\n",
       "    }\n",
       "\n",
       "    .dataframe thead th {\n",
       "        text-align: right;\n",
       "    }\n",
       "</style>\n",
       "<table border=\"1\" class=\"dataframe\">\n",
       "  <thead>\n",
       "    <tr style=\"text-align: right;\">\n",
       "      <th></th>\n",
       "      <th>municipio</th>\n",
       "      <th>fsq_id</th>\n",
       "      <th>distance</th>\n",
       "      <th>name</th>\n",
       "      <th>id_categoria</th>\n",
       "      <th>categoria</th>\n",
       "      <th>direccion</th>\n",
       "      <th>latitud</th>\n",
       "      <th>longitud</th>\n",
       "    </tr>\n",
       "  </thead>\n",
       "  <tbody>\n",
       "    <tr>\n",
       "      <th>0</th>\n",
       "      <td>zarzalejo</td>\n",
       "      <td>f038ecadfc7e45cf918a52b7</td>\n",
       "      <td>68.0</td>\n",
       "      <td>Hotel Duque</td>\n",
       "      <td>13065.0</td>\n",
       "      <td>Restaurant</td>\n",
       "      <td>Avenida de la Estacion, 65, 28293 Zarzalejo Co...</td>\n",
       "      <td>40.539545</td>\n",
       "      <td>-4.163218</td>\n",
       "    </tr>\n",
       "    <tr>\n",
       "      <th>1</th>\n",
       "      <td>zarzalejo</td>\n",
       "      <td>a9b39a609ae347db2d0ea6c6</td>\n",
       "      <td>117.0</td>\n",
       "      <td>El Roble</td>\n",
       "      <td>13065.0</td>\n",
       "      <td>Restaurant</td>\n",
       "      <td>Plaza del Llano del Soldado, 9, 28293 Zarzalej...</td>\n",
       "      <td>40.539899</td>\n",
       "      <td>-4.163608</td>\n",
       "    </tr>\n",
       "    <tr>\n",
       "      <th>2</th>\n",
       "      <td>zarzalejo</td>\n",
       "      <td>510fd6ffe4b0be8b48139796</td>\n",
       "      <td>309.0</td>\n",
       "      <td>Bar los Alamos</td>\n",
       "      <td>13003.0</td>\n",
       "      <td>Bar</td>\n",
       "      <td>Avenida Estación, 37, 28293 Zarzalejo Comunida...</td>\n",
       "      <td>40.539738</td>\n",
       "      <td>-4.159139</td>\n",
       "    </tr>\n",
       "    <tr>\n",
       "      <th>3</th>\n",
       "      <td>zarzalejo</td>\n",
       "      <td>13d37dea87e6481152fa42a8</td>\n",
       "      <td>392.0</td>\n",
       "      <td>La Parada Resto Bar</td>\n",
       "      <td>10000.0</td>\n",
       "      <td>Arts and Entertainment</td>\n",
       "      <td>Avenida de la Estacion, 4, 28293 Zarzalejo Com...</td>\n",
       "      <td>40.539882</td>\n",
       "      <td>-4.157773</td>\n",
       "    </tr>\n",
       "    <tr>\n",
       "      <th>4</th>\n",
       "      <td>zarzalejo</td>\n",
       "      <td>3b8b7068f0144222b54f131d</td>\n",
       "      <td>474.0</td>\n",
       "      <td>Asador Cruz Verde</td>\n",
       "      <td>13065.0</td>\n",
       "      <td>Restaurant</td>\n",
       "      <td>Carretera Madrid-Ávila, Km 36, 28200 El Escori...</td>\n",
       "      <td>40.541742</td>\n",
       "      <td>-4.167070</td>\n",
       "    </tr>\n",
       "  </tbody>\n",
       "</table>\n",
       "</div>"
      ],
      "text/plain": [
       "   municipio                    fsq_id  distance                 name  \\\n",
       "0  zarzalejo  f038ecadfc7e45cf918a52b7      68.0          Hotel Duque   \n",
       "1  zarzalejo  a9b39a609ae347db2d0ea6c6     117.0             El Roble   \n",
       "2  zarzalejo  510fd6ffe4b0be8b48139796     309.0       Bar los Alamos   \n",
       "3  zarzalejo  13d37dea87e6481152fa42a8     392.0  La Parada Resto Bar   \n",
       "4  zarzalejo  3b8b7068f0144222b54f131d     474.0    Asador Cruz Verde   \n",
       "\n",
       "   id_categoria               categoria  \\\n",
       "0       13065.0              Restaurant   \n",
       "1       13065.0              Restaurant   \n",
       "2       13003.0                     Bar   \n",
       "3       10000.0  Arts and Entertainment   \n",
       "4       13065.0              Restaurant   \n",
       "\n",
       "                                           direccion    latitud  longitud  \n",
       "0  Avenida de la Estacion, 65, 28293 Zarzalejo Co...  40.539545 -4.163218  \n",
       "1  Plaza del Llano del Soldado, 9, 28293 Zarzalej...  40.539899 -4.163608  \n",
       "2  Avenida Estación, 37, 28293 Zarzalejo Comunida...  40.539738 -4.159139  \n",
       "3  Avenida de la Estacion, 4, 28293 Zarzalejo Com...  40.539882 -4.157773  \n",
       "4  Carretera Madrid-Ávila, Km 36, 28200 El Escori...  40.541742 -4.167070  "
      ]
     },
     "metadata": {},
     "output_type": "display_data"
    },
    {
     "data": {
      "text/plain": [
       "4828"
      ]
     },
     "metadata": {},
     "output_type": "display_data"
    }
   ],
   "source": [
    "display(df_all.head())\n",
    "display(df_all.shape[0])"
   ]
  },
  {
   "cell_type": "markdown",
   "metadata": {},
   "source": [
    "Guardamos los resultados en un csv, para su posterior utilizacion"
   ]
  },
  {
   "cell_type": "code",
   "execution_count": 5,
   "metadata": {},
   "outputs": [],
   "source": [
    "df_all.to_csv(\"../datos/datos_completos_con_categorias.csv\")"
   ]
  }
 ],
 "metadata": {
  "kernelspec": {
   "display_name": "Python 3",
   "language": "python",
   "name": "python3"
  },
  "language_info": {
   "codemirror_mode": {
    "name": "ipython",
    "version": 3
   },
   "file_extension": ".py",
   "mimetype": "text/x-python",
   "name": "python",
   "nbconvert_exporter": "python",
   "pygments_lexer": "ipython3",
   "version": "3.12.5"
  }
 },
 "nbformat": 4,
 "nbformat_minor": 2
}
